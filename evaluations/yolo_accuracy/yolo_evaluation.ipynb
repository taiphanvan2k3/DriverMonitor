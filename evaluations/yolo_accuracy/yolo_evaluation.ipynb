{
 "cells": [
  {
   "cell_type": "code",
   "execution_count": 1,
   "metadata": {},
   "outputs": [],
   "source": [
    "import os\n",
    "import cv2\n",
    "import pandas as pd\n",
    "from ultralytics import YOLO"
   ]
  },
  {
   "cell_type": "code",
   "execution_count": 2,
   "metadata": {},
   "outputs": [],
   "source": [
    "test_dir = \"./using_phone_frames\"\n",
    "\n",
    "if not os.path.exists(test_dir):\n",
    "    os.makedirs(test_dir)"
   ]
  },
  {
   "cell_type": "code",
   "execution_count": 3,
   "metadata": {},
   "outputs": [],
   "source": [
    "def extract_images_from_video(\n",
    "    video_path: str,\n",
    "    output_folder: str,\n",
    "    time_step: float = 0.25,\n",
    "    is_rotate: bool = False,\n",
    "):\n",
    "    if not os.path.exists(output_folder):\n",
    "        os.makedirs(output_folder)\n",
    "\n",
    "    # Lấy tên file gốc không bao gồm phần mở rộng\n",
    "    base_name = os.path.splitext(os.path.basename(video_path))[0]\n",
    "    cap = cv2.VideoCapture(video_path)\n",
    "    fps = cap.get(cv2.CAP_PROP_FPS)\n",
    "    print(f\"Frames per second using video.get(cv2.CAP_PROP_FPS): {fps}\")\n",
    "\n",
    "    frame_interval = int(fps * time_step)\n",
    "    frame_count = 0\n",
    "    saved_count = 0\n",
    "\n",
    "    while cap.isOpened():\n",
    "        ret, frame = cap.read()\n",
    "        if not ret:\n",
    "            break\n",
    "\n",
    "        if is_rotate:\n",
    "            frame = cv2.rotate(\n",
    "                frame, cv2.ROTATE_90_COUNTERCLOCKWISE\n",
    "            )  # Xoay 90 độ ngược chiều kim đồng hồ\n",
    "\n",
    "        if frame_count % frame_interval == 0:\n",
    "            saved_count += 1\n",
    "            # Định dạng tên file: <tên file gốc>_<số thứ tự dạng 3 chữ số>.jpg\n",
    "\n",
    "            output_file = os.path.join(\n",
    "                output_folder, f\"{base_name}_{saved_count:03d}.jpg\"\n",
    "            )\n",
    "            cv2.imwrite(output_file, frame)\n",
    "        frame_count += 1\n",
    "\n",
    "    cap.release()\n",
    "    cv2.destroyAllWindows()"
   ]
  },
  {
   "cell_type": "code",
   "execution_count": 4,
   "metadata": {},
   "outputs": [
    {
     "name": "stdout",
     "output_type": "stream",
     "text": [
      "Frames per second using video.get(cv2.CAP_PROP_FPS): 0.0\n"
     ]
    }
   ],
   "source": [
    "extract_images_from_video(\"./test_data.mp4\", test_dir, time_step=0.25, is_rotate=False)"
   ]
  },
  {
   "cell_type": "markdown",
   "metadata": {},
   "source": [
    "### Compare accuracy of Yolo8n and Yolo11n, Yolo11s"
   ]
  },
  {
   "cell_type": "code",
   "execution_count": 5,
   "metadata": {},
   "outputs": [],
   "source": [
    "images = []\n",
    "model_accuracies = []\n",
    "\n",
    "for filename in os.listdir(test_dir):\n",
    "    if filename.endswith(\".jpg\"):\n",
    "        images.append(os.path.join(test_dir, filename))"
   ]
  },
  {
   "cell_type": "code",
   "execution_count": 6,
   "metadata": {},
   "outputs": [],
   "source": [
    "def analyze_phone_detection(model_name):\n",
    "    model = YOLO(model_name)\n",
    "    undetected_phone_images = []\n",
    "    image_count = len(images)\n",
    "\n",
    "    for image in images:\n",
    "        results = model(image, classes=[67], imgsz=640,verbose=False)\n",
    "\n",
    "        if len(results[0].boxes) == 0:\n",
    "            undetected_phone_images.append(image)\n",
    "\n",
    "    print(f\"Total images: {image_count}\")\n",
    "    print(f\"Images without phone detected: {len(undetected_phone_images)}\")\n",
    "    print(f\"Images with phone detected: {image_count - len(undetected_phone_images)}\")\n",
    "\n",
    "    accuracy = (image_count - len(undetected_phone_images)) / image_count * 100\n",
    "    model_accuracies.append({\n",
    "        \"model_name\": model_name.split(\".\")[0],\n",
    "        \"accuracy\": accuracy,\n",
    "    })\n",
    "    print(f\"Accuracy: {accuracy:.2f}%\")"
   ]
  },
  {
   "cell_type": "code",
   "execution_count": 7,
   "metadata": {},
   "outputs": [
    {
     "name": "stdout",
     "output_type": "stream",
     "text": [
      "Total images: 166\n",
      "Images without phone detected: 94\n",
      "Images with phone detected: 72\n",
      "Accuracy: 43.37%\n"
     ]
    }
   ],
   "source": [
    "analyze_phone_detection (\"yolov5nu.pt\")"
   ]
  },
  {
   "cell_type": "code",
   "execution_count": 8,
   "metadata": {},
   "outputs": [
    {
     "name": "stdout",
     "output_type": "stream",
     "text": [
      "Total images: 166\n",
      "Images without phone detected: 48\n",
      "Images with phone detected: 118\n",
      "Accuracy: 71.08%\n"
     ]
    }
   ],
   "source": [
    "analyze_phone_detection (\"yolov8n.pt\")"
   ]
  },
  {
   "cell_type": "code",
   "execution_count": 9,
   "metadata": {},
   "outputs": [
    {
     "name": "stdout",
     "output_type": "stream",
     "text": [
      "Total images: 166\n",
      "Images without phone detected: 86\n",
      "Images with phone detected: 80\n",
      "Accuracy: 48.19%\n"
     ]
    }
   ],
   "source": [
    "analyze_phone_detection (\"yolov8s.pt\")"
   ]
  },
  {
   "cell_type": "code",
   "execution_count": 10,
   "metadata": {},
   "outputs": [
    {
     "name": "stdout",
     "output_type": "stream",
     "text": [
      "Total images: 166\n",
      "Images without phone detected: 108\n",
      "Images with phone detected: 58\n",
      "Accuracy: 34.94%\n"
     ]
    }
   ],
   "source": [
    "analyze_phone_detection(\"yolov9t.pt\")"
   ]
  },
  {
   "cell_type": "code",
   "execution_count": 11,
   "metadata": {},
   "outputs": [
    {
     "name": "stdout",
     "output_type": "stream",
     "text": [
      "Total images: 166\n",
      "Images without phone detected: 67\n",
      "Images with phone detected: 99\n",
      "Accuracy: 59.64%\n"
     ]
    }
   ],
   "source": [
    "analyze_phone_detection (\"yolo11n.pt\")"
   ]
  },
  {
   "cell_type": "code",
   "execution_count": 12,
   "metadata": {},
   "outputs": [
    {
     "name": "stdout",
     "output_type": "stream",
     "text": [
      "Total images: 166\n",
      "Images without phone detected: 25\n",
      "Images with phone detected: 141\n",
      "Accuracy: 84.94%\n"
     ]
    }
   ],
   "source": [
    "analyze_phone_detection (\"yolo11s.pt\")"
   ]
  },
  {
   "cell_type": "code",
   "execution_count": 13,
   "metadata": {},
   "outputs": [],
   "source": [
    "yolo_evaluation = pd.read_csv(\"../../tool/detect_cell_phone/detection_speed2.csv\")"
   ]
  },
  {
   "cell_type": "code",
   "execution_count": 14,
   "metadata": {},
   "outputs": [
    {
     "data": {
      "text/html": [
       "<div>\n",
       "<style scoped>\n",
       "    .dataframe tbody tr th:only-of-type {\n",
       "        vertical-align: middle;\n",
       "    }\n",
       "\n",
       "    .dataframe tbody tr th {\n",
       "        vertical-align: top;\n",
       "    }\n",
       "\n",
       "    .dataframe thead th {\n",
       "        text-align: right;\n",
       "    }\n",
       "</style>\n",
       "<table border=\"1\" class=\"dataframe\">\n",
       "  <thead>\n",
       "    <tr style=\"text-align: right;\">\n",
       "      <th></th>\n",
       "      <th>Model</th>\n",
       "      <th>Average Inference Time (ms)</th>\n",
       "    </tr>\n",
       "  </thead>\n",
       "  <tbody>\n",
       "    <tr>\n",
       "      <th>0</th>\n",
       "      <td>yolov5nu</td>\n",
       "      <td>53.688467</td>\n",
       "    </tr>\n",
       "    <tr>\n",
       "      <th>1</th>\n",
       "      <td>yolov8n</td>\n",
       "      <td>47.938562</td>\n",
       "    </tr>\n",
       "    <tr>\n",
       "      <th>2</th>\n",
       "      <td>yolov8s</td>\n",
       "      <td>113.835681</td>\n",
       "    </tr>\n",
       "    <tr>\n",
       "      <th>3</th>\n",
       "      <td>yolov9t</td>\n",
       "      <td>82.349341</td>\n",
       "    </tr>\n",
       "    <tr>\n",
       "      <th>4</th>\n",
       "      <td>yolo11n</td>\n",
       "      <td>58.184477</td>\n",
       "    </tr>\n",
       "    <tr>\n",
       "      <th>5</th>\n",
       "      <td>yolo11s</td>\n",
       "      <td>114.807193</td>\n",
       "    </tr>\n",
       "  </tbody>\n",
       "</table>\n",
       "</div>"
      ],
      "text/plain": [
       "      Model  Average Inference Time (ms)\n",
       "0  yolov5nu                    53.688467\n",
       "1   yolov8n                    47.938562\n",
       "2   yolov8s                   113.835681\n",
       "3   yolov9t                    82.349341\n",
       "4   yolo11n                    58.184477\n",
       "5   yolo11s                   114.807193"
      ]
     },
     "execution_count": 14,
     "metadata": {},
     "output_type": "execute_result"
    }
   ],
   "source": [
    "yolo_evaluation"
   ]
  },
  {
   "cell_type": "code",
   "execution_count": 15,
   "metadata": {},
   "outputs": [],
   "source": [
    "# Thêm cột Accuracy vào DataFrame\n",
    "yolo_evaluation[\"Accuracy\"] = None\n",
    "\n",
    "# Cập nhật giá trị Accuracy cho từng model\n",
    "for i, row in yolo_evaluation.iterrows():\n",
    "    for accuracy in model_accuracies:\n",
    "        if row[\"Model\"] == accuracy[\"model_name\"]:\n",
    "            yolo_evaluation.at[i, \"Accuracy\"] = accuracy[\"accuracy\"]"
   ]
  },
  {
   "cell_type": "code",
   "execution_count": 16,
   "metadata": {},
   "outputs": [
    {
     "data": {
      "text/html": [
       "<div>\n",
       "<style scoped>\n",
       "    .dataframe tbody tr th:only-of-type {\n",
       "        vertical-align: middle;\n",
       "    }\n",
       "\n",
       "    .dataframe tbody tr th {\n",
       "        vertical-align: top;\n",
       "    }\n",
       "\n",
       "    .dataframe thead th {\n",
       "        text-align: right;\n",
       "    }\n",
       "</style>\n",
       "<table border=\"1\" class=\"dataframe\">\n",
       "  <thead>\n",
       "    <tr style=\"text-align: right;\">\n",
       "      <th></th>\n",
       "      <th>Model</th>\n",
       "      <th>Average Inference Time (ms)</th>\n",
       "      <th>Accuracy</th>\n",
       "    </tr>\n",
       "  </thead>\n",
       "  <tbody>\n",
       "    <tr>\n",
       "      <th>0</th>\n",
       "      <td>yolov5nu</td>\n",
       "      <td>53.688467</td>\n",
       "      <td>43.373494</td>\n",
       "    </tr>\n",
       "    <tr>\n",
       "      <th>1</th>\n",
       "      <td>yolov8n</td>\n",
       "      <td>47.938562</td>\n",
       "      <td>71.084337</td>\n",
       "    </tr>\n",
       "    <tr>\n",
       "      <th>2</th>\n",
       "      <td>yolov8s</td>\n",
       "      <td>113.835681</td>\n",
       "      <td>48.192771</td>\n",
       "    </tr>\n",
       "    <tr>\n",
       "      <th>3</th>\n",
       "      <td>yolov9t</td>\n",
       "      <td>82.349341</td>\n",
       "      <td>34.939759</td>\n",
       "    </tr>\n",
       "    <tr>\n",
       "      <th>4</th>\n",
       "      <td>yolo11n</td>\n",
       "      <td>58.184477</td>\n",
       "      <td>59.638554</td>\n",
       "    </tr>\n",
       "    <tr>\n",
       "      <th>5</th>\n",
       "      <td>yolo11s</td>\n",
       "      <td>114.807193</td>\n",
       "      <td>84.939759</td>\n",
       "    </tr>\n",
       "  </tbody>\n",
       "</table>\n",
       "</div>"
      ],
      "text/plain": [
       "      Model  Average Inference Time (ms)   Accuracy\n",
       "0  yolov5nu                    53.688467  43.373494\n",
       "1   yolov8n                    47.938562  71.084337\n",
       "2   yolov8s                   113.835681  48.192771\n",
       "3   yolov9t                    82.349341  34.939759\n",
       "4   yolo11n                    58.184477  59.638554\n",
       "5   yolo11s                   114.807193  84.939759"
      ]
     },
     "execution_count": 16,
     "metadata": {},
     "output_type": "execute_result"
    }
   ],
   "source": [
    "yolo_evaluation"
   ]
  },
  {
   "cell_type": "code",
   "execution_count": 17,
   "metadata": {},
   "outputs": [],
   "source": [
    "yolo_evaluation.to_csv(\"../../tool/detect_cell_phone/detection_speed2.csv\", index=False)"
   ]
  }
 ],
 "metadata": {
  "kernelspec": {
   "display_name": ".venv",
   "language": "python",
   "name": "python3"
  },
  "language_info": {
   "codemirror_mode": {
    "name": "ipython",
    "version": 3
   },
   "file_extension": ".py",
   "mimetype": "text/x-python",
   "name": "python",
   "nbconvert_exporter": "python",
   "pygments_lexer": "ipython3",
   "version": "3.12.8"
  }
 },
 "nbformat": 4,
 "nbformat_minor": 2
}
