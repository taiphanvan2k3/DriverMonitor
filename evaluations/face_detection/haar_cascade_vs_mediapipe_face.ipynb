{
 "cells": [
  {
   "cell_type": "code",
   "execution_count": 1,
   "metadata": {},
   "outputs": [],
   "source": [
    "import cv2\n",
    "import mediapipe as mp\n",
    "import os\n",
    "import time\n",
    "import pandas as pd"
   ]
  },
  {
   "cell_type": "code",
   "execution_count": 2,
   "metadata": {},
   "outputs": [],
   "source": [
    "# Khởi tạo Mediapipe Face Detection\n",
    "mp_face_detection = mp.solutions.face_detection\n",
    "face_detection = mp_face_detection.FaceDetection(model_selection=1, min_detection_confidence=0.5)"
   ]
  },
  {
   "cell_type": "markdown",
   "metadata": {},
   "source": [
    "### Thử nghiệm với Mediapipe Face"
   ]
  },
  {
   "cell_type": "code",
   "execution_count": 3,
   "metadata": {},
   "outputs": [],
   "source": [
    "# Thư mục chứa ảnh\n",
    "image_folder = \"../tool/frames_extraction/20250307_222846\"\n",
    "\n",
    "temp_folder = \"mediapipe_face_detection_temp\"\n",
    "\n",
    "# Tạo thư mục \"temp\" nếu chưa tồn tại\n",
    "if not os.path.exists(temp_folder):\n",
    "    os.makedirs(temp_folder)\n",
    "\n",
    "# Danh sách lưu kết quả\n",
    "results_list = []\n",
    "\n",
    "detected_image_count = 0\n",
    "total_frame_count = 0\n",
    "\n",
    "# Duyệt qua tất cả ảnh trong folder\n",
    "for filename in os.listdir(image_folder):\n",
    "    if filename.endswith(('.png', '.jpg', '.jpeg')):  # Chỉ lấy file ảnh\n",
    "        image_path = os.path.join(image_folder, filename)\n",
    "\n",
    "        # Đọc ảnh\n",
    "        image = cv2.imread(image_path)\n",
    "        if image is None:\n",
    "            continue\n",
    "\n",
    "        total_frame_count += 1\n",
    "\n",
    "        # Chuyển ảnh sang RGB (vì Mediapipe dùng RGB thay vì BGR)\n",
    "        image_rgb = cv2.cvtColor(image, cv2.COLOR_BGR2RGB)\n",
    "        \n",
    "        # Bắt đầu đo thời gian\n",
    "        start_time = time.time()\n",
    "        \n",
    "        # Phát hiện khuôn mặt\n",
    "        results = face_detection.process(image_rgb)\n",
    "        \n",
    "        # Kết thúc đo thời gian\n",
    "        end_time = time.time()\n",
    "        processing_time = end_time - start_time  # Thời gian xử lý (giây)\n",
    "        \n",
    "        # Số khuôn mặt phát hiện được\n",
    "        num_faces = len(results.detections) if results.detections else 0\n",
    "\n",
    "        # Vẽ bounding box lên ảnh\n",
    "        if results.detections:\n",
    "            for idx, detection in enumerate(results.detections):\n",
    "                bboxC = detection.location_data.relative_bounding_box\n",
    "                ih, iw, _ = image.shape\n",
    "                x, y, w, h = int(bboxC.xmin * iw), int(bboxC.ymin * ih), \\\n",
    "                                int(bboxC.width * iw), int(bboxC.height * ih)\n",
    "                \n",
    "                # Cắt ảnh chỉ giữ lại khuôn mặt\n",
    "                face_crop = image[max(0, y):min(ih, y+h), max(0, x):min(iw, x+w)]\n",
    "\n",
    "                # Đường dẫn lưu ảnh đã cắt\n",
    "                output_path = os.path.join(temp_folder, f\"{filename}_face{idx}.jpg\")\n",
    "                cv2.imwrite(output_path, face_crop)\n",
    "\n",
    "                detected_image_count += 1\n",
    "        \n",
    "        # Lưu kết quả\n",
    "        results_list.append({\n",
    "            \"image\": filename,\n",
    "            \"num_faces\": num_faces,\n",
    "            \"processing_time\": processing_time\n",
    "        })"
   ]
  },
  {
   "cell_type": "code",
   "execution_count": 4,
   "metadata": {},
   "outputs": [],
   "source": [
    "# Chuyển kết quả thành DataFrame\n",
    "df = pd.DataFrame(results_list)"
   ]
  },
  {
   "cell_type": "code",
   "execution_count": 5,
   "metadata": {},
   "outputs": [
    {
     "name": "stdout",
     "output_type": "stream",
     "text": [
      "Số frame có thể phát hiện khuôn mặt: 344\n",
      "Tổng số frame: 356\n",
      "Tỉ lệ phát hiện khuôn mặt: 96.62921348314607 %\n",
      "⏱️ Thời gian xử lý nhanh nhất: 0.0000 giây\n",
      "⏱️ Thời gian xử lý lâu nhất: 0.0206 giây\n",
      "⏱️ Thời gian xử lý trung bình cho mỗi ảnh: 0.0064 giây\n"
     ]
    }
   ],
   "source": [
    "print(\"Số frame có thể phát hiện khuôn mặt:\", detected_image_count)\n",
    "print(\"Tổng số frame:\", total_frame_count)\n",
    "print(\"Tỉ lệ phát hiện khuôn mặt:\", detected_image_count / total_frame_count * 100, \"%\")\n",
    "\n",
    "average_processing_time = df['processing_time'].mean()\n",
    "max_processing_time = df['processing_time'].max()\n",
    "min_processing_time = df['processing_time'].min()\n",
    "print(f\"⏱️ Thời gian xử lý nhanh nhất: {min_processing_time:.4f} giây\")\n",
    "print(f\"⏱️ Thời gian xử lý lâu nhất: {max_processing_time:.4f} giây\")\n",
    "print(f\"⏱️ Thời gian xử lý trung bình cho mỗi ảnh: {average_processing_time:.4f} giây\")"
   ]
  },
  {
   "cell_type": "markdown",
   "metadata": {},
   "source": [
    "### Thử nghiệm với Haar Cascade"
   ]
  },
  {
   "cell_type": "code",
   "execution_count": 6,
   "metadata": {},
   "outputs": [],
   "source": [
    "# Load mô hình Haar Cascade\n",
    "face_cascade = cv2.CascadeClassifier(cv2.data.haarcascades + 'haarcascade_frontalface_default.xml')\n",
    "\n",
    "# Thư mục chứa ảnh đầu vào\n",
    "image_folder = \"../tool/frames_extraction/20250307_222846\"\n",
    "\n",
    "# Thư mục chứa ảnh đầu ra (chỉ chứa khuôn mặt)\n",
    "temp_folder = \"haar_cascade_face_detection_temp\"\n",
    "\n",
    "# Tạo thư mục \"temp\" nếu chưa tồn tại\n",
    "if not os.path.exists(temp_folder):\n",
    "    os.makedirs(temp_folder)\n",
    "\n",
    "# Danh sách lưu kết quả\n",
    "results_list = []\n",
    "\n",
    "detected_image_count = 0\n",
    "total_frame_count = 0\n",
    "\n",
    "# Duyệt qua tất cả ảnh trong folder\n",
    "for filename in os.listdir(image_folder):\n",
    "    if filename.endswith(('.png', '.jpg', '.jpeg')):  # Chỉ lấy file ảnh\n",
    "        image_path = os.path.join(image_folder, filename)\n",
    "\n",
    "        # Đọc ảnh\n",
    "        image = cv2.imread(image_path)\n",
    "        if image is None:\n",
    "            continue\n",
    "\n",
    "        total_frame_count += 1\n",
    "\n",
    "        # Chuyển ảnh sang grayscale (Haar Cascade yêu cầu ảnh grayscale)\n",
    "        gray = cv2.cvtColor(image, cv2.COLOR_BGR2GRAY)\n",
    "        \n",
    "        # Bắt đầu đo thời gian\n",
    "        start_time = time.time()\n",
    "        \n",
    "        # Phát hiện khuôn mặt\n",
    "        faces = face_cascade.detectMultiScale(gray, scaleFactor=1.1, minNeighbors=5, minSize=(30, 30))\n",
    "        \n",
    "        # Kết thúc đo thời gian\n",
    "        end_time = time.time()\n",
    "        processing_time = end_time - start_time  # Thời gian xử lý (giây)\n",
    "        \n",
    "        # Số khuôn mặt phát hiện được\n",
    "        num_faces = len(faces)\n",
    "\n",
    "        # Lưu các khuôn mặt đã cắt\n",
    "        for idx, (x, y, w, h) in enumerate(faces):\n",
    "            # Cắt ảnh chỉ giữ lại khuôn mặt\n",
    "            face_crop = image[max(0, y):min(image.shape[0], y+h), max(0, x):min(image.shape[1], x+w)]\n",
    "\n",
    "            # Đường dẫn lưu ảnh đã cắt\n",
    "            output_path = os.path.join(temp_folder, f\"{filename}_face{idx}.jpg\")\n",
    "            cv2.imwrite(output_path, face_crop)\n",
    "\n",
    "            detected_image_count += 1\n",
    "\n",
    "        # Lưu kết quả\n",
    "        results_list.append({\n",
    "            \"image\": filename,\n",
    "            \"num_faces\": num_faces,\n",
    "            \"processing_time\": processing_time\n",
    "        })"
   ]
  },
  {
   "cell_type": "code",
   "execution_count": 7,
   "metadata": {},
   "outputs": [
    {
     "name": "stdout",
     "output_type": "stream",
     "text": [
      "Số frame có thể phát hiện khuôn mặt: 172\n",
      "Tổng số frame: 356\n",
      "Tỉ lệ phát hiện khuôn mặt: 48.31460674157304 %\n",
      "⏱️ Thời gian xử lý nhanh nhất: 0.0312 giây\n",
      "⏱️ Thời gian xử lý lâu nhất: 0.2627 giây\n",
      "⏱️ Thời gian xử lý trung bình cho mỗi ảnh: 0.0480 giây\n"
     ]
    }
   ],
   "source": [
    "# Chuyển kết quả thành DataFrame\n",
    "df = pd.DataFrame(results_list)\n",
    "\n",
    "print(\"Số frame có thể phát hiện khuôn mặt:\", detected_image_count)\n",
    "print(\"Tổng số frame:\", total_frame_count)\n",
    "print(\"Tỉ lệ phát hiện khuôn mặt:\", detected_image_count / total_frame_count * 100, \"%\")\n",
    "\n",
    "average_processing_time = df['processing_time'].mean()\n",
    "max_processing_time = df['processing_time'].max()\n",
    "min_processing_time = df['processing_time'].min()\n",
    "\n",
    "print(f\"⏱️ Thời gian xử lý nhanh nhất: {min_processing_time:.4f} giây\")\n",
    "print(f\"⏱️ Thời gian xử lý lâu nhất: {max_processing_time:.4f} giây\")\n",
    "print(f\"⏱️ Thời gian xử lý trung bình cho mỗi ảnh: {average_processing_time:.4f} giây\")"
   ]
  }
 ],
 "metadata": {
  "kernelspec": {
   "display_name": ".venv",
   "language": "python",
   "name": "python3"
  },
  "language_info": {
   "codemirror_mode": {
    "name": "ipython",
    "version": 3
   },
   "file_extension": ".py",
   "mimetype": "text/x-python",
   "name": "python",
   "nbconvert_exporter": "python",
   "pygments_lexer": "ipython3",
   "version": "3.12.8"
  }
 },
 "nbformat": 4,
 "nbformat_minor": 2
}
