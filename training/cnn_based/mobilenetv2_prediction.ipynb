{
 "cells": [
  {
   "cell_type": "code",
   "execution_count": 1,
   "id": "2426b2ad",
   "metadata": {},
   "outputs": [],
   "source": [
    "import numpy as np\n",
    "import cv2\n",
    "from tensorflow.keras.applications import MobileNetV2\n",
    "from tensorflow.keras.models import Model\n",
    "from tensorflow.keras.layers import Dense, GlobalAveragePooling2D, Dropout\n",
    "from tensorflow.keras.optimizers import Adam\n",
    "from tensorflow.keras.models import load_model\n",
    "import os"
   ]
  },
  {
   "cell_type": "markdown",
   "id": "aa252de1",
   "metadata": {},
   "source": [
    "### Load weights"
   ]
  },
  {
   "cell_type": "code",
   "execution_count": null,
   "id": "01d0d5d4",
   "metadata": {},
   "outputs": [
    {
     "name": "stdout",
     "output_type": "stream",
     "text": [
      "Loading full model from: ./model/mobilenet-v2.h5\n"
     ]
    },
    {
     "name": "stderr",
     "output_type": "stream",
     "text": [
      "WARNING:absl:Compiled the loaded model, but the compiled metrics have yet to be built. `model.compile_metrics` will be empty until you train or evaluate the model.\n"
     ]
    },
    {
     "name": "stdout",
     "output_type": "stream",
     "text": [
      "WARNING:tensorflow:6 out of the last 6 calls to <function TensorFlowTrainer.make_predict_function.<locals>.one_step_on_data_distributed at 0x000001C2615E7E20> triggered tf.function retracing. Tracing is expensive and the excessive number of tracings could be due to (1) creating @tf.function repeatedly in a loop, (2) passing tensors with different shapes, (3) passing Python objects instead of tensors. For (1), please define your @tf.function outside of the loop. For (2), @tf.function has reduce_retracing=True option that can avoid unnecessary retracing. For (3), please refer to https://www.tensorflow.org/guide/function#controlling_retracing and https://www.tensorflow.org/api_docs/python/tf/function for  more details.\n"
     ]
    },
    {
     "name": "stderr",
     "output_type": "stream",
     "text": [
      "WARNING:tensorflow:6 out of the last 6 calls to <function TensorFlowTrainer.make_predict_function.<locals>.one_step_on_data_distributed at 0x000001C2615E7E20> triggered tf.function retracing. Tracing is expensive and the excessive number of tracings could be due to (1) creating @tf.function repeatedly in a loop, (2) passing tensors with different shapes, (3) passing Python objects instead of tensors. For (1), please define your @tf.function outside of the loop. For (2), @tf.function has reduce_retracing=True option that can avoid unnecessary retracing. For (3), please refer to https://www.tensorflow.org/guide/function#controlling_retracing and https://www.tensorflow.org/api_docs/python/tf/function for  more details.\n"
     ]
    },
    {
     "name": "stdout",
     "output_type": "stream",
     "text": [
      "\u001b[1m1/1\u001b[0m \u001b[32m━━━━━━━━━━━━━━━━━━━━\u001b[0m\u001b[37m\u001b[0m \u001b[1m3s\u001b[0m 3s/step\n",
      "--- Predicted Probabilities ---\n",
      "natural: 0.0380\n",
      "sleepy_eye: 0.7714\n",
      "yawn: 0.0167\n",
      "rub_eye: 0.0005\n",
      "look_away: 0.0000\n",
      "\n",
      "Predicted active labels (threshold 0.5): ['sleepy_eye']\n"
     ]
    }
   ],
   "source": [
    "def build_mobilenetv2_model(input_shape=(224, 224, 3), num_classes=5):\n",
    "    # Load pre-trained base model (không bao gồm lớp fully connected cuối)\n",
    "    base_model = MobileNetV2(weights='imagenet', include_top=False, input_shape=input_shape)\n",
    "\n",
    "    # Đóng băng các lớp của base model (để không huấn luyện lại chúng ban đầu)\n",
    "    base_model.trainable = False # Quan trọng!\n",
    "\n",
    "    x = base_model.output\n",
    "    x = GlobalAveragePooling2D()(x) # Giảm chiều dữ liệu\n",
    "    x = Dense(128, activation='relu')(x)\n",
    "    x = Dropout(0.5)(x)\n",
    "    predictions = Dense(num_classes, activation='sigmoid')(x) # Sử dụng sigmoid cho multi-label\n",
    "\n",
    "    model = Model(inputs=base_model.input, outputs=predictions)\n",
    "\n",
    "    model.compile(optimizer=Adam(learning_rate=1e-4),\n",
    "                  loss='binary_crossentropy',\n",
    "                  metrics=['accuracy'])\n",
    "\n",
    "    return model\n",
    "\n",
    "def predict_multi_label(image_path, model, threshold=0.5): # Pass model as argument\n",
    "    image = cv2.imread(image_path)\n",
    "    if image is None:\n",
    "        print(f\"Error: Could not load image {image_path}\")\n",
    "        return None, None\n",
    "\n",
    "    image = cv2.resize(image, (224, 224))  # Resize image to 224x224\n",
    "    image = image / 255.0  # Normalize the image (match training)\n",
    "    image = image.astype(np.float32) # Ensure float32 dtype\n",
    "\n",
    "    image = np.expand_dims(image, axis=0)  # Add batch dimension\n",
    "\n",
    "    predictions = model.predict(image)[0] # Get the prediction for the single image\n",
    "\n",
    "    # Define the class labels\n",
    "    class_labels = ['natural', 'sleepy_eye', 'yawn', 'rub_eye', 'look_away']\n",
    "\n",
    "    print(\"--- Predicted Probabilities ---\")\n",
    "    predicted_labels = []\n",
    "    confidences = {}\n",
    "    for i, label in enumerate(class_labels):\n",
    "        confidence = predictions[i]\n",
    "        confidences[label] = confidence\n",
    "        print(f\"{label}: {confidence:.4f}\")\n",
    "        if confidence >= threshold:\n",
    "            predicted_labels.append(label)\n",
    "\n",
    "    # If no label meets the threshold, maybe report the one with highest confidence? (Optional)\n",
    "    if not predicted_labels:\n",
    "         highest_confidence_idx = np.argmax(predictions)\n",
    "         print(f\"\\nNote: No label reached threshold {threshold}.\")\n",
    "         print(f\"Highest confidence label: {class_labels[highest_confidence_idx]} ({predictions[highest_confidence_idx]:.4f})\")\n",
    "\n",
    "    return predicted_labels, confidences # Return list of active labels and all confidences\n",
    "\n",
    "# --- Example Usage ---\n",
    "# Make sure you load the *final, best* model first\n",
    "try:\n",
    "    # Try loading the fine-tuned model first if it exists\n",
    "    model_path = './model/mobilenet-v2.h5'\n",
    "    if not os.path.exists(model_path):\n",
    "         # Fallback to the potentially non-finetuned one if needed\n",
    "        model_path = './model/mobilenet-v2.h5'\n",
    "        if not os.path.exists(model_path):\n",
    "            # Fallback to loading weights if full model save failed or wasn't run\n",
    "            model_path = './model/model_finetune_checkpoint.weights.h5' # Or model_head_checkpoint...\n",
    "            print(f\"Loading weights from: {model_path}\")\n",
    "            # Need to rebuild the model structure if loading only weights\n",
    "            model = build_mobilenetv2_model()\n",
    "            model.load_weights(model_path)\n",
    "        else:\n",
    "            print(f\"Loading full model from: {model_path}\")\n",
    "            model = load_model(model_path)\n",
    "    else:\n",
    "        print(f\"Loading full model from: {model_path}\")\n",
    "        model = load_model(model_path)\n",
    "\n",
    "    image_path_test = 'image06.png' # Change as needed\n",
    "    predicted_labels, confidences = predict_multi_label(image_path_test, model, threshold=0.5)\n",
    "\n",
    "    if predicted_labels is not None:\n",
    "        print(f\"\\nPredicted active labels (threshold 0.5): {predicted_labels}\")\n",
    "\n",
    "except Exception as e:\n",
    "    print(f\"Error during model loading or prediction: {e}\")\n",
    "    print(\"Please ensure the model file exists and training completed successfully.\")"
   ]
  },
  {
   "cell_type": "code",
   "execution_count": 4,
   "id": "45f0a9fc",
   "metadata": {},
   "outputs": [
    {
     "name": "stdout",
     "output_type": "stream",
     "text": [
      "Loading full model from: ./new_models/mobilenetv2_model_final.h5\n"
     ]
    }
   ],
   "source": [
    "# Make sure the correct model is loaded\n",
    "# from tensorflow.keras.models import load_model\n",
    "# model = load_model('sleepiness_detection_model_final.h5') # Load the FINE-TUNED model\n",
    "\n",
    "def build_mobilenetv2_model(input_shape=(224, 224, 3), num_classes=5):\n",
    "    # Load pre-trained base model (không bao gồm lớp fully connected cuối)\n",
    "    base_model = MobileNetV2(weights='imagenet', include_top=False, input_shape=input_shape)\n",
    "\n",
    "    # Đóng băng các lớp của base model (để không huấn luyện lại chúng ban đầu)\n",
    "    base_model.trainable = False # Quan trọng!\n",
    "\n",
    "    x = base_model.output\n",
    "    x = GlobalAveragePooling2D()(x) # Giảm chiều dữ liệu\n",
    "    x = Dense(128, activation='relu')(x)\n",
    "    x = Dropout(0.5)(x)\n",
    "    predictions = Dense(num_classes, activation='sigmoid')(x) # Sử dụng sigmoid cho multi-label\n",
    "\n",
    "    model = Model(inputs=base_model.input, outputs=predictions)\n",
    "\n",
    "    model.compile(optimizer=Adam(learning_rate=1e-4),\n",
    "                  loss='binary_crossentropy',\n",
    "                  metrics=['accuracy'])\n",
    "\n",
    "    return model\n",
    "\n",
    "def predict_multi_label(image_path, model, threshold=0.5): # Pass model as argument\n",
    "    image = cv2.imread(image_path)\n",
    "    if image is None:\n",
    "        print(f\"Error: Could not load image {image_path}\")\n",
    "        return None, None\n",
    "\n",
    "    image = cv2.resize(image, (224, 224))  # Resize image to 224x224\n",
    "    image = image / 255.0  # Normalize the image (match training)\n",
    "    image = image.astype(np.float32) # Ensure float32 dtype\n",
    "\n",
    "    image = np.expand_dims(image, axis=0)  # Add batch dimension\n",
    "\n",
    "    predictions = model.predict(image)[0] # Get the prediction for the single image\n",
    "\n",
    "    # Define the class labels\n",
    "    class_labels = ['natural', 'sleepy_eye', 'yawn', 'rub_eye', 'look_away']\n",
    "\n",
    "    print(\"--- Predicted Probabilities ---\")\n",
    "    predicted_labels = []\n",
    "    confidences = {}\n",
    "    for i, label in enumerate(class_labels):\n",
    "        confidence = predictions[i]\n",
    "        confidences[label] = confidence\n",
    "        print(f\"{label}: {confidence:.4f}\")\n",
    "        if confidence >= threshold:\n",
    "            predicted_labels.append(label)\n",
    "\n",
    "    # If no label meets the threshold, maybe report the one with highest confidence? (Optional)\n",
    "    if not predicted_labels:\n",
    "         highest_confidence_idx = np.argmax(predictions)\n",
    "         print(f\"\\nNote: No label reached threshold {threshold}.\")\n",
    "         print(f\"Highest confidence label: {class_labels[highest_confidence_idx]} ({predictions[highest_confidence_idx]:.4f})\")\n",
    "\n",
    "    return predicted_labels, confidences # Return list of active labels and all confidences\n",
    "\n",
    "# Try loading the fine-tuned model first if it exists\n",
    "model_path = './new_models/mobilenetv2_model_final.h5'\n",
    "if not os.path.exists(model_path):\n",
    "        # Fallback to the potentially non-finetuned one if needed\n",
    "    model_path = './new_models/mobilenetv2_model_final.h5'\n",
    "    if not os.path.exists(model_path):\n",
    "        # Fallback to loading weights if full model save failed or wasn't run\n",
    "        model_path = './new_models/model_finetune_checkpoint.weights.h5' # Or model_head_checkpoint...\n",
    "        print(f\"Loading weights from: {model_path}\")\n",
    "        # Need to rebuild the model structure if loading only weights\n",
    "        model = build_mobilenetv2_model()\n",
    "        model.load_weights(model_path)\n",
    "    else:\n",
    "        print(f\"Loading full model from: {model_path}\")\n",
    "        model = load_model(model_path)\n",
    "else:\n",
    "    print(f\"Loading full model from: {model_path}\")\n",
    "    model = load_model(model_path)"
   ]
  },
  {
   "cell_type": "code",
   "execution_count": 16,
   "id": "1510ccc7",
   "metadata": {},
   "outputs": [
    {
     "name": "stdout",
     "output_type": "stream",
     "text": [
      "1/1 [==============================] - 0s 32ms/step\n",
      "--- Predicted Probabilities ---\n",
      "natural: 0.0541\n",
      "sleepy_eye: 0.8350\n",
      "yawn: 0.0162\n",
      "rub_eye: 0.0014\n",
      "look_away: 0.0003\n",
      "\n",
      "Predicted active labels (threshold 0.5): ['sleepy_eye']\n"
     ]
    }
   ],
   "source": [
    "image_path_test = 'image06.png' # Change as needed\n",
    "predicted_labels, confidences = predict_multi_label(image_path_test, model, threshold=0.4)\n",
    "\n",
    "if predicted_labels is not None:\n",
    "    print(f\"\\nPredicted active labels (threshold 0.5): {predicted_labels}\")"
   ]
  }
 ],
 "metadata": {
  "kernelspec": {
   "display_name": "py310",
   "language": "python",
   "name": "python3"
  },
  "language_info": {
   "codemirror_mode": {
    "name": "ipython",
    "version": 3
   },
   "file_extension": ".py",
   "mimetype": "text/x-python",
   "name": "python",
   "nbconvert_exporter": "python",
   "pygments_lexer": "ipython3",
   "version": "3.10.16"
  }
 },
 "nbformat": 4,
 "nbformat_minor": 5
}
