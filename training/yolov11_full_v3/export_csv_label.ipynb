{
 "cells": [
  {
   "cell_type": "code",
   "execution_count": 1,
   "id": "5019f0ba",
   "metadata": {},
   "outputs": [
    {
     "name": "stdout",
     "output_type": "stream",
     "text": [
      "File CSV đã được tạo: output.csv\n"
     ]
    }
   ],
   "source": [
    "import os\n",
    "import csv\n",
    "\n",
    "base_dir = r'test'\n",
    "output_csv = 'output.csv'\n",
    "\n",
    "header = ['original_file_path', 'labels', 'natural', 'sleepy_eye', 'yawn', 'rub_eye', 'look_away']\n",
    "\n",
    "def label_to_one_hot(label):\n",
    "    labels_list = ['natural', 'sleepy_eye', 'yawn', 'rub_eye', 'look_away']\n",
    "    return [1 if label == l else 0 for l in labels_list]\n",
    "\n",
    "rows = []\n",
    "\n",
    "for label_dir in os.listdir(base_dir):\n",
    "    label_path = os.path.join(base_dir, label_dir)\n",
    "    if os.path.isdir(label_path):\n",
    "        for filename in os.listdir(label_path):\n",
    "            if filename.lower().endswith(('.jpg', '.jpeg', '.png')):\n",
    "                # Tạo đường dẫn ảnh gốc tương đối hoặc tuyệt đối, ví dụ ở đây là tương đối từ thư mục base_dir\n",
    "                original_path = os.path.join(base_dir, label_dir, filename)\n",
    "                one_hot = label_to_one_hot(label_dir)\n",
    "                row = [original_path, label_dir] + one_hot\n",
    "                rows.append(row)\n",
    "\n",
    "with open(output_csv, 'w', newline='', encoding='utf-8') as f:\n",
    "    writer = csv.writer(f)\n",
    "    writer.writerow(header)\n",
    "    writer.writerows(rows)\n",
    "\n",
    "print(f'File CSV đã được tạo: {output_csv}')"
   ]
  },
  {
   "cell_type": "code",
   "execution_count": 2,
   "id": "916e9812",
   "metadata": {},
   "outputs": [
    {
     "name": "stdout",
     "output_type": "stream",
     "text": [
      "Tổng số ảnh: 156\n",
      "Số lượng mẫu theo nhãn:\n",
      "labels\n",
      "sleepy_eye    43\n",
      "yawn          40\n",
      "natural       38\n",
      "look_away     30\n",
      "rub_eye        5\n",
      "Name: count, dtype: int64\n"
     ]
    }
   ],
   "source": [
    "import pandas as pd\n",
    "\n",
    "# Đường dẫn file CSV\n",
    "csv_file = 'output.csv'\n",
    "\n",
    "# Đọc CSV\n",
    "df = pd.read_csv(csv_file)\n",
    "\n",
    "# Tổng số ảnh\n",
    "total_images = len(df)\n",
    "\n",
    "# Đếm số mẫu theo nhãn\n",
    "label_counts = df['labels'].value_counts()\n",
    "\n",
    "print(f'Tổng số ảnh: {total_images}')\n",
    "print('Số lượng mẫu theo nhãn:')\n",
    "print(label_counts)\n"
   ]
  },
  {
   "cell_type": "code",
   "execution_count": 6,
   "id": "d7a142c4",
   "metadata": {},
   "outputs": [
    {
     "name": "stdout",
     "output_type": "stream",
     "text": [
      "\n",
      "              precision    recall  f1-score   support\n",
      "\n",
      "     natural       0.87      0.99      0.92      401\n",
      "  sleepy_eye       0.82      0.82      0.82       50\n",
      "        yawn       1.00      1.00      1.00       32\n",
      "     rub_eye       1.00      1.00      1.00       51\n",
      "   look_away       0.86      0.86      0.86       58\n",
      "       phone       0.83      0.85      0.84      131\n",
      "\n",
      "    accuracy                           0.89      693\n",
      "   macro avg       0.90      0.92      0.91      693\n",
      "weighted avg       0.89      0.92      0.91      693\n",
      "\n"
     ]
    }
   ],
   "source": [
    "report = \"\"\"\n",
    "              precision    recall  f1-score   support\n",
    "\n",
    "     natural       0.87      0.99      0.92      401\n",
    "  sleepy_eye       0.82      0.82      0.82       50\n",
    "        yawn       1.00      1.00      1.00       32\n",
    "     rub_eye       1.00      1.00      1.00       51\n",
    "   look_away       0.86      0.86      0.86       58\n",
    "       phone       0.83      0.85      0.84      131\n",
    "\n",
    "    accuracy                           0.89      693\n",
    "   macro avg       0.90      0.92      0.91      693\n",
    "weighted avg       0.89      0.92      0.91      693\n",
    "\"\"\"\n",
    "\n",
    "print(report)\n"
   ]
  }
 ],
 "metadata": {
  "kernelspec": {
   "display_name": "myenv",
   "language": "python",
   "name": "python3"
  },
  "language_info": {
   "codemirror_mode": {
    "name": "ipython",
    "version": 3
   },
   "file_extension": ".py",
   "mimetype": "text/x-python",
   "name": "python",
   "nbconvert_exporter": "python",
   "pygments_lexer": "ipython3",
   "version": "3.10.16"
  }
 },
 "nbformat": 4,
 "nbformat_minor": 5
}
