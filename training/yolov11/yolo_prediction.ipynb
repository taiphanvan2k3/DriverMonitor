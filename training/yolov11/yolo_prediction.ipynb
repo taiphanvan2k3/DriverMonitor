{
 "cells": [
  {
   "cell_type": "code",
   "execution_count": null,
   "id": "a0b1814a",
   "metadata": {},
   "outputs": [],
   "source": [
    "%pip install \"ultralytics<=8.3.40\" supervision roboflow"
   ]
  },
  {
   "cell_type": "code",
   "execution_count": null,
   "id": "125bb80d",
   "metadata": {},
   "outputs": [
    {
     "name": "stdout",
     "output_type": "stream",
     "text": [
      "d:\\School\\4thYear\\2ndSemester\\ComputerVision\\LearningMonitor\\training\\yolov11_full_v3\n"
     ]
    }
   ],
   "source": [
    "import os\n",
    "\n",
    "HOME = os.getcwd()\n",
    "print(HOME)"
   ]
  },
  {
   "cell_type": "code",
   "execution_count": null,
   "id": "41b69ff7",
   "metadata": {},
   "outputs": [
    {
     "name": "stdout",
     "output_type": "stream",
     "text": [
      "Ultralytics 8.3.40  Python-3.10.16 torch-2.6.0+cu118 CUDA:0 (NVIDIA T500, 4096MiB)\n",
      "Setup complete  (8 CPUs, 15.7 GB RAM, 162.9/293.0 GB disk)\n"
     ]
    }
   ],
   "source": [
    "import ultralytics\n",
    "\n",
    "\n",
    "ultralytics.checks()"
   ]
  },
  {
   "cell_type": "code",
   "execution_count": 5,
   "id": "8e278310",
   "metadata": {},
   "outputs": [
    {
     "name": "stdout",
     "output_type": "stream",
     "text": [
      "Ultralytics 8.3.40 🚀 Python-3.10.16 torch-2.6.0+cu118 CUDA:0 (NVIDIA T500, 4096MiB)\n",
      "YOLO11s summary (fused): 238 layers, 9,415,122 parameters, 0 gradients, 21.3 GFLOPs\n",
      "\n",
      "image 1/1 D:\\School\\4thYear\\2ndSemester\\ComputerVision\\LearningMonitor\\training\\image07.png: 640x480 1 sleepy_eye, 1 yawn, 32.1ms\n",
      "Speed: 2.0ms preprocess, 32.1ms inference, 69.8ms postprocess per image at shape (1, 3, 640, 480)\n",
      "Results saved to \u001b[1md:\\School\\4thYear\\2ndSemester\\ComputerVision\\LearningMonitor\\runs\\detect\\predict8\u001b[0m\n",
      "💡 Learn more at https://docs.ultralytics.com/modes/predict\n"
     ]
    }
   ],
   "source": [
    "!yolo task=detect mode=predict model={HOME}/runs/detect/train/weights/best.pt source=\"D:/School/4thYear/2ndSemester/ComputerVision/LearningMonitor/training/image07.png\""
   ]
  },
  {
   "cell_type": "markdown",
   "id": "337684d2",
   "metadata": {},
   "source": [
    "### Tạo class Yolo\n"
   ]
  },
  {
   "cell_type": "code",
   "execution_count": 1,
   "id": "1bf70a22",
   "metadata": {},
   "outputs": [],
   "source": [
    "from ultralytics import YOLO"
   ]
  },
  {
   "cell_type": "code",
   "execution_count": 2,
   "id": "974e41d7",
   "metadata": {},
   "outputs": [
    {
     "name": "stdout",
     "output_type": "stream",
     "text": [
      "CUDA available: True\n",
      "Using GPU: NVIDIA T500\n"
     ]
    }
   ],
   "source": [
    "import torch\n",
    "\n",
    "print(\"CUDA available:\", torch.cuda.is_available())\n",
    "if torch.cuda.is_available():\n",
    "    print(\"Using GPU:\", torch.cuda.get_device_name(0))\n",
    "else:\n",
    "    print(\"Using CPU\")"
   ]
  },
  {
   "cell_type": "code",
   "execution_count": 3,
   "id": "b02c788a",
   "metadata": {},
   "outputs": [],
   "source": [
    "class YOLODetector:\n",
    "    def __init__(self, model_path):\n",
    "        self.model = YOLO(model_path)\n",
    "        self.class_names = self.model.names\n",
    "        print(f\"Model loaded from {self.class_names}\")\n",
    "\n",
    "    def predict_from_path(self, image_path, conf=0.25, show=False):\n",
    "        results = self.model(image_path, conf=conf)\n",
    "        return self._process_results(results[0], conf, show)\n",
    "\n",
    "    def predict_from_image(self, frame, conf=0.25, show=False):\n",
    "        results = self.model(frame, conf=conf)\n",
    "        return self._process_results(results[0], conf, show)\n",
    "\n",
    "    def _process_results(self, result, conf, show):\n",
    "        if show:\n",
    "            result.show()\n",
    "\n",
    "        labels = []\n",
    "        for box in result.boxes:\n",
    "            cls_id = int(box.cls[0])\n",
    "            conf_score = float(box.conf[0])\n",
    "            label = self.class_names[cls_id] if self.class_names else cls_id\n",
    "\n",
    "            if label == \"phone\":\n",
    "                print(f\"Detected phone with confidence: {conf_score:.2f}\")\n",
    "\n",
    "            if conf_score >= conf:\n",
    "                labels.append(label)\n",
    "\n",
    "        # Lọc labels để loại bỏ các nhãn trùng lặp\n",
    "        labels = list(set(labels))\n",
    "        return labels"
   ]
  },
  {
   "cell_type": "code",
   "execution_count": 5,
   "id": "9ac786d6",
   "metadata": {},
   "outputs": [
    {
     "name": "stdout",
     "output_type": "stream",
     "text": [
      "Model loaded from {0: 'look_away', 1: 'natural', 2: 'phone', 3: 'rub_eye', 4: 'sleepy_eye', 5: 'yawn'}\n"
     ]
    }
   ],
   "source": [
    "detector = YOLODetector(\"runs/detect/train/weights/best.pt\")"
   ]
  },
  {
   "cell_type": "code",
   "execution_count": null,
   "id": "4f2e12c7",
   "metadata": {},
   "outputs": [
    {
     "name": "stdout",
     "output_type": "stream",
     "text": [
      "\n",
      "image 1/1 D:\\School\\4thYear\\2ndSemester\\ComputerVision\\LearningMonitor\\training\\image07.png: 640x480 1 sleepy_eye, 1 yawn, 28.4ms\n",
      "Speed: 1.7ms preprocess, 28.4ms inference, 2.0ms postprocess per image at shape (1, 3, 640, 480)\n",
      "Detected labels: ['sleepy_eye', 'yawn']\n"
     ]
    }
   ],
   "source": [
    "results = detector.predict_from_path(\n",
    "    \"D:/School/4thYear/2ndSemester/ComputerVision/LearningMonitor/training/image07.png\", conf=0.25\n",
    ")\n",
    "\n",
    "print(\"Detected labels:\", results)"
   ]
  },
  {
   "cell_type": "code",
   "execution_count": 30,
   "id": "28f07a6d",
   "metadata": {},
   "outputs": [
    {
     "name": "stdout",
     "output_type": "stream",
     "text": [
      "\n",
      "image 1/1 D:\\School\\4thYear\\2ndSemester\\ComputerVision\\LearningMonitor\\training\\yolov11_full_v3\\503.jpg: 384x640 1 sleepy_eye, 1 yawn, 176.9ms\n",
      "Speed: 7.0ms preprocess, 176.9ms inference, 0.0ms postprocess per image at shape (1, 3, 384, 640)\n"
     ]
    },
    {
     "data": {
      "text/plain": [
       "['yawn', 'sleepy_eye']"
      ]
     },
     "execution_count": 30,
     "metadata": {},
     "output_type": "execute_result"
    }
   ],
   "source": [
    "detector.predict_from_path(\n",
    "    \"D:/School/4thYear/2ndSemester/ComputerVision/LearningMonitor/training/yolov11_full_v3/503.jpg\", conf=0.25\n",
    ")"
   ]
  },
  {
   "cell_type": "code",
   "execution_count": 29,
   "id": "e76c2911",
   "metadata": {},
   "outputs": [
    {
     "name": "stdout",
     "output_type": "stream",
     "text": [
      "\n",
      "image 1/1 D:\\School\\4thYear\\2ndSemester\\ComputerVision\\LearningMonitor\\training\\yolov11_full_v3\\3227.jpg: 384x640 1 sleepy_eye, 1 yawn, 201.1ms\n",
      "Speed: 1.8ms preprocess, 201.1ms inference, 3.0ms postprocess per image at shape (1, 3, 384, 640)\n"
     ]
    },
    {
     "data": {
      "text/plain": [
       "['yawn', 'sleepy_eye']"
      ]
     },
     "execution_count": 29,
     "metadata": {},
     "output_type": "execute_result"
    }
   ],
   "source": [
    "detector.predict_from_path(\n",
    "    \"D:/School/4thYear/2ndSemester/ComputerVision/LearningMonitor/training/yolov11_full_v3/3227.jpg\", conf=0.25\n",
    ")"
   ]
  },
  {
   "cell_type": "code",
   "execution_count": 7,
   "id": "260f7e9c",
   "metadata": {},
   "outputs": [
    {
     "name": "stdout",
     "output_type": "stream",
     "text": [
      "\n",
      "image 1/1 D:\\School\\4thYear\\2ndSemester\\ComputerVision\\LearningMonitor\\training\\yolov11_full_v3\\WIN_20250604_20_53_27_Pro.jpg: 384x640 1 rub_eye, 248.9ms\n",
      "Speed: 6.5ms preprocess, 248.9ms inference, 17.4ms postprocess per image at shape (1, 3, 384, 640)\n"
     ]
    },
    {
     "data": {
      "text/plain": [
       "['rub_eye']"
      ]
     },
     "execution_count": 7,
     "metadata": {},
     "output_type": "execute_result"
    }
   ],
   "source": [
    "detector.predict_from_path(\n",
    "    \"D:/School/4thYear/2ndSemester/ComputerVision/LearningMonitor/training/yolov11_full_v3/WIN_20250604_20_53_27_Pro.jpg\", conf=0.45, show=True\n",
    ")"
   ]
  }
 ],
 "metadata": {
  "kernelspec": {
   "display_name": "py310",
   "language": "python",
   "name": "python3"
  },
  "language_info": {
   "codemirror_mode": {
    "name": "ipython",
    "version": 3
   },
   "file_extension": ".py",
   "mimetype": "text/x-python",
   "name": "python",
   "nbconvert_exporter": "python",
   "pygments_lexer": "ipython3",
   "version": "3.10.16"
  }
 },
 "nbformat": 4,
 "nbformat_minor": 5
}
