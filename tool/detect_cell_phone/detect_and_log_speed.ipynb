{
 "cells": [
  {
   "cell_type": "code",
   "execution_count": 2,
   "metadata": {},
   "outputs": [],
   "source": [
    "import cv2\n",
    "import time\n",
    "import pandas as pd\n",
    "from ultralytics import YOLO"
   ]
  },
  {
   "cell_type": "code",
   "execution_count": 5,
   "metadata": {},
   "outputs": [
    {
     "name": "stdout",
     "output_type": "stream",
     "text": [
      "Downloading https://github.com/ultralytics/assets/releases/download/v8.3.0/yolov9t.pt to 'yolov9t.pt'...\n"
     ]
    },
    {
     "name": "stderr",
     "output_type": "stream",
     "text": [
      "100%|██████████| 4.74M/4.74M [00:00<00:00, 7.75MB/s]\n"
     ]
    },
    {
     "name": "stdout",
     "output_type": "stream",
     "text": [
      "Speed log saved to detection_speed2.csv\n"
     ]
    }
   ],
   "source": [
    "def detect_and_log_speed(video_path, model_paths, output_csv=\"detection_speed.csv\"):\n",
    "    \"\"\"\n",
    "    Detects objects in a video using different YOLO models and logs the detection speed (in ms) for each frame.\n",
    "    Then calculates the average detection speed for each model and logs the result to a CSV.\n",
    "    \n",
    "    :param video_path: Path to the input video file.\n",
    "    :param model_paths: List of paths to the YOLO model files.\n",
    "    :param output_csv: Path to the output CSV file for logging results.\n",
    "    \"\"\"\n",
    "    # Open the video file\n",
    "    cap = cv2.VideoCapture(video_path)\n",
    "    if not cap.isOpened():\n",
    "        print(f\"Error opening video file: {video_path}\")\n",
    "        return\n",
    "\n",
    "    # Prepare the CSV headers\n",
    "    headers = [\"Model\", \"Average Inference Time (ms)\"]\n",
    "    log_data = []\n",
    "\n",
    "    # Loop over each model\n",
    "    for model_path in model_paths:\n",
    "        model_name = model_path.split(\"/\")[-1].split(\".\")[0]  # Extract model name from path\n",
    "        model = YOLO(model_path)\n",
    "\n",
    "        total_inference_time = 0\n",
    "        frame_count = 0\n",
    "\n",
    "        while True:\n",
    "            ret, frame = cap.read()\n",
    "            if not ret:\n",
    "                break\n",
    "\n",
    "            frame_count += 1\n",
    "\n",
    "            # Record the start time\n",
    "            start_time = time.time()\n",
    "\n",
    "            # Run detection on the frame\n",
    "            results = model(frame, verbose=False)[0]\n",
    "\n",
    "            # Calculate inference time in milliseconds\n",
    "            inference_time = (time.time() - start_time) * 1000  # Convert to milliseconds\n",
    "            total_inference_time += inference_time\n",
    "\n",
    "            # Optionally, display the frame with bounding boxes (you can remove this in production)\n",
    "            for det in results.boxes:\n",
    "                x1, y1, x2, y2 = map(int, det.xyxy[0])\n",
    "                label = results.names[int(det.cls[0])]\n",
    "                confidence = float(det.conf[0])\n",
    "                cv2.rectangle(frame, (x1, y1), (x2, y2), (0, 255, 0), 2)\n",
    "                text = f\"{label} {confidence:.2f}\"\n",
    "                cv2.putText(frame, text, (x1, y1 - 5), cv2.FONT_HERSHEY_SIMPLEX, 0.6, (0, 255, 0), 2)\n",
    "\n",
    "        # Calculate average inference time for this model\n",
    "        average_inference_time = total_inference_time / frame_count if frame_count > 0 else 0\n",
    "\n",
    "        # Log the average inference time for this model\n",
    "        log_data.append([model_name, average_inference_time])\n",
    "\n",
    "        # Reset video capture to the beginning for the next model\n",
    "        cap.set(cv2.CAP_PROP_POS_FRAMES, 0)\n",
    "\n",
    "    # Save the log data to CSV\n",
    "    df = pd.DataFrame(log_data, columns=headers)\n",
    "    df.to_csv(output_csv, index=False)\n",
    "    print(f\"Speed log saved to {output_csv}\")\n",
    "\n",
    "    cap.release()\n",
    "    cv2.destroyAllWindows()\n",
    "\n",
    "\n",
    "if __name__ == \"__main__\":\n",
    "    # List of model file paths (you can change these as per your models)\n",
    "    model_paths = [\n",
    "        \"yolov5nu.pt\",  # YOLOv5 Null model\n",
    "        \"yolov8n.pt\",\n",
    "        \"yolov8s.pt\",  # YOLOv8 Nano model\n",
    "        \"yolov9t.pt\",\n",
    "        \"yolo11n.pt\",  # YOLOv11 Nano model\n",
    "        \"yolo11s.pt\",  # YOLOv11 Small model\n",
    "    ]\n",
    "    \n",
    "    # Input video path\n",
    "    video_path = \"test_data.mp4\"  # Replace with your video file path\n",
    "\n",
    "    # Run the speed detection and logging function\n",
    "    detect_and_log_speed(video_path, model_paths, output_csv=\"detection_speed2.csv\")"
   ]
  }
 ],
 "metadata": {
  "kernelspec": {
   "display_name": ".venv",
   "language": "python",
   "name": "python3"
  },
  "language_info": {
   "codemirror_mode": {
    "name": "ipython",
    "version": 3
   },
   "file_extension": ".py",
   "mimetype": "text/x-python",
   "name": "python",
   "nbconvert_exporter": "python",
   "pygments_lexer": "ipython3",
   "version": "3.12.8"
  }
 },
 "nbformat": 4,
 "nbformat_minor": 2
}
