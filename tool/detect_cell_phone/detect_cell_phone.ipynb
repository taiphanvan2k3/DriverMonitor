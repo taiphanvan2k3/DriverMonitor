{
 "cells": [
  {
   "cell_type": "code",
   "execution_count": 1,
   "metadata": {},
   "outputs": [],
   "source": [
    "import cv2\n",
    "import torch\n",
    "from ultralytics import YOLO"
   ]
  },
  {
   "cell_type": "code",
   "execution_count": null,
   "metadata": {},
   "outputs": [],
   "source": [
    "model = YOLO(\"yolo11n.pt\")\n",
    "\n",
    "video_path = \"video_path.mp4\"\n",
    "# cap = cv2.VideoCapture(video_path)\n",
    "cap = cv2.VideoCapture(0)  # Mở camera\n",
    "if not cap.isOpened():\n",
    "    print(\"Không thể mở video hoặc camera.\")\n",
    "    exit()\n",
    "\n",
    "# 3) Vòng lặp đọc từng frame\n",
    "while True:\n",
    "    ret, frame = cap.read()\n",
    "    if not ret:\n",
    "        break\n",
    "\n",
    "    # 67 -> cell phone, conf=0.5 -> 50% confidence threshold\n",
    "    results = model.predict(frame, conf=0.5, classes=[67], verbose=False)\n",
    "\n",
    "    #    results[0].boxes chứa thông tin bboxes của frame\n",
    "    for box in results[0].boxes:\n",
    "        # box.xyxy: [x_min, y_min, x_max, y_max]\n",
    "        # box.conf: độ tin cậy\n",
    "        # box.cls : chỉ số class\n",
    "        x1, y1, x2, y2 = box.xyxy[0]\n",
    "        conf = float(box.conf[0])\n",
    "        cls_id = int(box.cls[0])\n",
    "\n",
    "        # Vẽ bounding box và nhãn\n",
    "        cv2.rectangle(frame, (int(x1), int(y1)), (int(x2), int(y2)), (0, 255, 0), 2)\n",
    "        cv2.putText(\n",
    "            frame,\n",
    "            f\"Cell phone {conf:.2f}\",\n",
    "            (int(x1), int(y1) - 10),\n",
    "            cv2.FONT_HERSHEY_SIMPLEX,\n",
    "            0.6,\n",
    "            (0, 255, 0),\n",
    "            2\n",
    "        )\n",
    "\n",
    "    cv2.imshow(\"YOLOv8 Cell Phone Detection\", frame)\n",
    "\n",
    "    # Nhấn 'q' để thoát\n",
    "    if cv2.waitKey(1) & 0xFF == ord('q'):\n",
    "        break\n",
    "\n",
    "cap.release()\n",
    "cv2.destroyAllWindows()"
   ]
  }
 ],
 "metadata": {
  "kernelspec": {
   "display_name": ".venv",
   "language": "python",
   "name": "python3"
  },
  "language_info": {
   "codemirror_mode": {
    "name": "ipython",
    "version": 3
   },
   "file_extension": ".py",
   "mimetype": "text/x-python",
   "name": "python",
   "nbconvert_exporter": "python",
   "pygments_lexer": "ipython3",
   "version": "3.10.6"
  }
 },
 "nbformat": 4,
 "nbformat_minor": 2
}
