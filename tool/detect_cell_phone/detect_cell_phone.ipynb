{
 "cells": [
  {
   "cell_type": "code",
   "execution_count": 3,
   "metadata": {},
   "outputs": [],
   "source": [
    "import cv2\n",
    "from ultralytics import YOLO\n",
    "import soundfile as sf\n",
    "import sounddevice as sd\n",
    "import threading\n",
    "import time\n",
    "import mediapipe as mp"
   ]
  },
  {
   "cell_type": "code",
   "execution_count": null,
   "metadata": {},
   "outputs": [],
   "source": [
    "look_straight_audio_filepath = \"../../assets/audios/look_straight.wav\"\n",
    "not_use_phone_audio_filepath = \"../../assets/audios/not_use_phone.wav\"\n",
    "\n",
    "# Global variables to manage sound playback\n",
    "is_playing = False\n",
    "last_played_time = 0\n",
    "debounce_time = 1 # seconds\n",
    "\n",
    "yolo_model = YOLO(\"yolo11s.pt\")\n",
    "# yolo_model = YOLO(\"yolov8n.pt\")\n",
    "\n",
    "# Khởi tạo Mediapipe Face Detection\n",
    "mp_face_detection = mp.solutions.face_detection\n",
    "face_detection = mp_face_detection.FaceDetection(model_selection=1, min_detection_confidence=0.5)"
   ]
  },
  {
   "cell_type": "code",
   "execution_count": 5,
   "metadata": {},
   "outputs": [],
   "source": [
    "def sound_audio(audio_file_path):\n",
    "    global is_playing\n",
    "    data, samplerate = sf.read(audio_file_path)\n",
    "    is_playing = True\n",
    "    sd.play(data, samplerate)\n",
    "    sd.wait()\n",
    "    is_playing = False\n",
    "\n",
    "# Hàm để phát âm thanh trong luồng riêng\n",
    "def play_sound_async(audio_file_path):\n",
    "    global is_playing, last_played_time\n",
    "    current_time = time.time()\n",
    "    \n",
    "    # Chỉ phát âm thanh nếu không có âm thanh nào đang phát và đủ thời gian chờ\n",
    "    if not is_playing and (current_time - last_played_time > debounce_time):\n",
    "        last_played_time = current_time\n",
    "        sound_thread = threading.Thread(target=sound_audio, args=(audio_file_path,))\n",
    "        sound_thread.start()"
   ]
  },
  {
   "cell_type": "markdown",
   "metadata": {},
   "source": [
    "### Apply frame skip to optimize performance"
   ]
  },
  {
   "cell_type": "code",
   "execution_count": 6,
   "metadata": {},
   "outputs": [],
   "source": [
    "import os\n",
    "from datetime import datetime"
   ]
  },
  {
   "cell_type": "code",
   "execution_count": null,
   "metadata": {},
   "outputs": [],
   "source": [
    "cap = cv2.VideoCapture(0)  # Mở camera\n",
    "if not cap.isOpened():\n",
    "    print(\"Không thể mở video hoặc camera.\")\n",
    "    exit()\n",
    "    \n",
    "frame_count = 0\n",
    "frame_skip = 3  # Chỉ dự đoán mỗi 2 khung hình\n",
    "\n",
    "# Biến để lưu thông tin bounding box trước đó\n",
    "last_boxes = []\n",
    "\n",
    "# Biến để theo dõi thời gian đã trôi qua\n",
    "start_time = time.time()\n",
    "\n",
    "while True:\n",
    "    ret, frame = cap.read()\n",
    "    if not ret:\n",
    "        break\n",
    "\n",
    "    # Hiển thị ngay lập tức frame dù chưa bắt đầu quá trình detect\n",
    "    cv2.imshow(\"YOLOv8 Cell Phone Detection\", frame)\n",
    "\n",
    "    # Kiểm tra nếu đã qua 3 giây, bắt đầu dự đoán\n",
    "    if time.time() - start_time >= 3:\n",
    "        frame_count += 1\n",
    "        if frame_count % frame_skip == 0:\n",
    "            # Chạy dự đoán chỉ mỗi 3 khung hình\n",
    "            results = yolo_model.predict(frame, conf=0.6, classes=[67], verbose=False)\n",
    "\n",
    "            # Cập nhật lại bounding box từ lần dự đoán mới\n",
    "            last_boxes = []\n",
    "            for box in results[0].boxes:\n",
    "                x1, y1, x2, y2 = box.xyxy[0]\n",
    "                conf = float(box.conf[0])\n",
    "                cls_id = int(box.cls[0])\n",
    "                last_boxes.append((x1, y1, x2, y2, conf))\n",
    "\n",
    "            if len(results[0].boxes) > 0:\n",
    "                play_sound_async(not_use_phone_audio_filepath)\n",
    "                continue\n",
    "\n",
    "            # Check khuôn mặt bằng Mediapipe\n",
    "            face_results = face_detection.process(cv2.cvtColor(frame, cv2.COLOR_BGR2RGB))\n",
    "            if (not face_results.detections) or face_results.detections[0].score[0] < 0.5:\n",
    "                print(\"Không phát hiện khuôn mặt.\")\n",
    "                play_sound_async(look_straight_audio_filepath)\n",
    "                continue\n",
    "            else:\n",
    "                score = face_results.detections[0].score[0]\n",
    "                print(\"Confidence:\", score)\n",
    "\n",
    "\n",
    "    # Nếu không phải khung hình đang dự đoán, vẽ bounding box từ lần trước\n",
    "    if last_boxes:\n",
    "        for (x1, y1, x2, y2, conf) in last_boxes:\n",
    "            # Vẽ bounding box và nhãn\n",
    "            cv2.rectangle(frame, (int(x1), int(y1)), (int(x2), int(y2)), (0, 255, 0), 2)\n",
    "            cv2.putText(\n",
    "                frame,\n",
    "                f\"Cell phone {conf:.2f}\",\n",
    "                (int(x1), int(y1) - 10),\n",
    "                cv2.FONT_HERSHEY_SIMPLEX,\n",
    "                0.6,\n",
    "                (0, 255, 0),\n",
    "                2\n",
    "            )\n",
    "\n",
    "    # Hiển thị khung hình với bounding box\n",
    "    cv2.imshow(\"YOLOv8 Cell Phone Detection\", frame)\n",
    "\n",
    "    # Điều kiện thoát khi nhấn 'q'\n",
    "    if cv2.waitKey(10) & 0xFF == ord('q'):\n",
    "        break\n",
    "\n",
    "cap.release()\n",
    "cv2.destroyAllWindows()"
   ]
  }
 ],
 "metadata": {
  "kernelspec": {
   "display_name": ".venv",
   "language": "python",
   "name": "python3"
  },
  "language_info": {
   "codemirror_mode": {
    "name": "ipython",
    "version": 3
   },
   "file_extension": ".py",
   "mimetype": "text/x-python",
   "name": "python",
   "nbconvert_exporter": "python",
   "pygments_lexer": "ipython3",
   "version": "3.12.8"
  }
 },
 "nbformat": 4,
 "nbformat_minor": 2
}
